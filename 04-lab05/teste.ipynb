{
 "cells": [],
 "metadata": {
  "kernelspec": {
   "display_name": "Python 3",
   "language": "python",
   "name": "python3"
  },
  "language_info": {
   "name": "python",
   "version": "3.9.6"
  },
  "vincent": {
   "sessionId": "36cf27e603b8d107d7c00e55_2025-05-29T01-35-49-583Z"
  }
 },
 "nbformat": 4,
 "nbformat_minor": 5
}
