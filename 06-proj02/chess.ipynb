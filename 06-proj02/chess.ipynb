{
 "cells": [],
 "metadata": {
  "vincent": {
   "sessionId": "c0eab296324b592e3ddd5e33_2025-06-04T01-49-34-532Z"
  }
 },
 "nbformat": 4,
 "nbformat_minor": 5
}
